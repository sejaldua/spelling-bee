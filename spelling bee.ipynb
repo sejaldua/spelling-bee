{
 "cells": [
  {
   "cell_type": "code",
   "execution_count": 9,
   "id": "electronic-feelings",
   "metadata": {
    "ExecuteTime": {
     "end_time": "2021-09-13T03:44:03.835317Z",
     "start_time": "2021-09-13T03:44:01.236916Z"
    }
   },
   "outputs": [
    {
     "name": "stdout",
     "output_type": "stream",
     "text": [
      "=¢t\n",
      "\n",
      " \n",
      "\n",
      "Help Yesterday’s Answers\n",
      "\n",
      "Beginner o\n",
      "\n",
      "Type or click You have found O words\n",
      "K\n",
      "\n",
      "N A\n",
      "\n",
      "B D\n",
      "H\n",
      "\n",
      "Delete O Enter\n",
      "\f",
      "\n"
     ]
    }
   ],
   "source": [
    "try:\n",
    "    from PIL import Image\n",
    "except ImportError:\n",
    "    import Image\n",
    "\n",
    "import pytesseract\n",
    "\n",
    "# img = Image.open('test.png')\n",
    "\n",
    "import cv2\n",
    "\n",
    "img_cv = cv2.imread(r'test2.png')\n",
    "\n",
    "# By default OpenCV stores images in BGR format and since pytesseract assumes RGB format,\n",
    "# we need to convert from BGR to RGB format/mode:\n",
    "img_rgb = cv2.cvtColor(img_cv, cv2.COLOR_BGR2RGB)\n",
    "string = pytesseract.image_to_string(img_rgb)\n",
    "print(string)"
   ]
  },
  {
   "cell_type": "code",
   "execution_count": 17,
   "id": "quarterly-prophet",
   "metadata": {
    "ExecuteTime": {
     "end_time": "2021-09-13T03:46:24.939842Z",
     "start_time": "2021-09-13T03:46:21.011089Z"
    }
   },
   "outputs": [
    {
     "name": "stdout",
     "output_type": "stream",
     "text": [
      "Requirement already satisfied: pyenchant in /Library/Frameworks/Python.framework/Versions/3.7/lib/python3.7/site-packages (3.2.1)\n",
      "\u001b[33mWARNING: You are using pip version 21.2.2; however, version 21.2.4 is available.\n",
      "You should consider upgrading via the '/Library/Frameworks/Python.framework/Versions/3.7/bin/python3 -m pip install --upgrade pip' command.\u001b[0m\n"
     ]
    }
   ],
   "source": [
    "!python3 -m pip install pyenchant"
   ]
  },
  {
   "cell_type": "code",
   "execution_count": 26,
   "id": "latest-investing",
   "metadata": {
    "ExecuteTime": {
     "end_time": "2021-09-13T04:12:10.694942Z",
     "start_time": "2021-09-13T04:12:10.686027Z"
    }
   },
   "outputs": [
    {
     "name": "stdout",
     "output_type": "stream",
     "text": [
      "['KKKK', 'KKKN', 'KKKA', 'KKKB', 'KKKD', 'KKKH', 'KKNN', 'KKNA', 'KKNB', 'KKND', 'KKNH', 'KKAA', 'KKAB', 'KKAD', 'KKAH', 'KKBB', 'KKBD', 'KKBH', 'KKDD', 'KKDH', 'KKHH', 'KNNN', 'KNNA', 'KNNB', 'KNND', 'KNNH', 'KNAA', 'KNAB', 'KNAD', 'KNAH', 'KNBB', 'KNBD', 'KNBH', 'KNDD', 'KNDH', 'KNHH', 'KAAA', 'KAAB', 'KAAD', 'KAAH', 'KABB', 'KABD', 'KABH', 'KADD', 'KADH', 'KAHH', 'KBBB', 'KBBD', 'KBBH', 'KBDD', 'KBDH', 'KBHH', 'KDDD', 'KDDH', 'KDHH', 'KHHH', 'NNNN', 'NNNA', 'NNNB', 'NNND', 'NNNH', 'NNAA', 'NNAB', 'NNAD', 'NNAH', 'NNBB', 'NNBD', 'NNBH', 'NNDD', 'NNDH', 'NNHH', 'NAAA', 'NAAB', 'NAAD', 'NAAH', 'NABB', 'NABD', 'NABH', 'NADD', 'NADH', 'NAHH', 'NBBB', 'NBBD', 'NBBH', 'NBDD', 'NBDH', 'NBHH', 'NDDD', 'NDDH', 'NDHH', 'NHHH', 'AAAA', 'AAAB', 'AAAD', 'AAAH', 'AABB', 'AABD', 'AABH', 'AADD', 'AADH', 'AAHH', 'ABBB', 'ABBD', 'ABBH', 'ABDD', 'ABDH', 'ABHH', 'ADDD', 'ADDH', 'ADHH', 'AHHH', 'BBBB', 'BBBD', 'BBBH', 'BBDD', 'BBDH', 'BBHH', 'BDDD', 'BDDH', 'BDHH', 'BHHH', 'DDDD', 'DDDH', 'DDHH', 'DHHH', 'HHHH']\n",
      "['KKKKK', 'KKKKN', 'KKKKA', 'KKKKB', 'KKKKD', 'KKKKH', 'KKKNN', 'KKKNA', 'KKKNB', 'KKKND', 'KKKNH', 'KKKAA', 'KKKAB', 'KKKAD', 'KKKAH', 'KKKBB', 'KKKBD', 'KKKBH', 'KKKDD', 'KKKDH', 'KKKHH', 'KKNNN', 'KKNNA', 'KKNNB', 'KKNND', 'KKNNH', 'KKNAA', 'KKNAB', 'KKNAD', 'KKNAH', 'KKNBB', 'KKNBD', 'KKNBH', 'KKNDD', 'KKNDH', 'KKNHH', 'KKAAA', 'KKAAB', 'KKAAD', 'KKAAH', 'KKABB', 'KKABD', 'KKABH', 'KKADD', 'KKADH', 'KKAHH', 'KKBBB', 'KKBBD', 'KKBBH', 'KKBDD', 'KKBDH', 'KKBHH', 'KKDDD', 'KKDDH', 'KKDHH', 'KKHHH', 'KNNNN', 'KNNNA', 'KNNNB', 'KNNND', 'KNNNH', 'KNNAA', 'KNNAB', 'KNNAD', 'KNNAH', 'KNNBB', 'KNNBD', 'KNNBH', 'KNNDD', 'KNNDH', 'KNNHH', 'KNAAA', 'KNAAB', 'KNAAD', 'KNAAH', 'KNABB', 'KNABD', 'KNABH', 'KNADD', 'KNADH', 'KNAHH', 'KNBBB', 'KNBBD', 'KNBBH', 'KNBDD', 'KNBDH', 'KNBHH', 'KNDDD', 'KNDDH', 'KNDHH', 'KNHHH', 'KAAAA', 'KAAAB', 'KAAAD', 'KAAAH', 'KAABB', 'KAABD', 'KAABH', 'KAADD', 'KAADH', 'KAAHH', 'KABBB', 'KABBD', 'KABBH', 'KABDD', 'KABDH', 'KABHH', 'KADDD', 'KADDH', 'KADHH', 'KAHHH', 'KBBBB', 'KBBBD', 'KBBBH', 'KBBDD', 'KBBDH', 'KBBHH', 'KBDDD', 'KBDDH', 'KBDHH', 'KBHHH', 'KDDDD', 'KDDDH', 'KDDHH', 'KDHHH', 'KHHHH', 'NNNNN', 'NNNNA', 'NNNNB', 'NNNND', 'NNNNH', 'NNNAA', 'NNNAB', 'NNNAD', 'NNNAH', 'NNNBB', 'NNNBD', 'NNNBH', 'NNNDD', 'NNNDH', 'NNNHH', 'NNAAA', 'NNAAB', 'NNAAD', 'NNAAH', 'NNABB', 'NNABD', 'NNABH', 'NNADD', 'NNADH', 'NNAHH', 'NNBBB', 'NNBBD', 'NNBBH', 'NNBDD', 'NNBDH', 'NNBHH', 'NNDDD', 'NNDDH', 'NNDHH', 'NNHHH', 'NAAAA', 'NAAAB', 'NAAAD', 'NAAAH', 'NAABB', 'NAABD', 'NAABH', 'NAADD', 'NAADH', 'NAAHH', 'NABBB', 'NABBD', 'NABBH', 'NABDD', 'NABDH', 'NABHH', 'NADDD', 'NADDH', 'NADHH', 'NAHHH', 'NBBBB', 'NBBBD', 'NBBBH', 'NBBDD', 'NBBDH', 'NBBHH', 'NBDDD', 'NBDDH', 'NBDHH', 'NBHHH', 'NDDDD', 'NDDDH', 'NDDHH', 'NDHHH', 'NHHHH', 'AAAAA', 'AAAAB', 'AAAAD', 'AAAAH', 'AAABB', 'AAABD', 'AAABH', 'AAADD', 'AAADH', 'AAAHH', 'AABBB', 'AABBD', 'AABBH', 'AABDD', 'AABDH', 'AABHH', 'AADDD', 'AADDH', 'AADHH', 'AAHHH', 'ABBBB', 'ABBBD', 'ABBBH', 'ABBDD', 'ABBDH', 'ABBHH', 'ABDDD', 'ABDDH', 'ABDHH', 'ABHHH', 'ADDDD', 'ADDDH', 'ADDHH', 'ADHHH', 'AHHHH', 'BBBBB', 'BBBBD', 'BBBBH', 'BBBDD', 'BBBDH', 'BBBHH', 'BBDDD', 'BBDDH', 'BBDHH', 'BBHHH', 'BDDDD', 'BDDDH', 'BDDHH', 'BDHHH', 'BHHHH', 'DDDDD', 'DDDDH', 'DDDHH', 'DDHHH', 'DHHHH', 'HHHHH']\n",
      "['KKKKKK', 'KKKKKN', 'KKKKKA', 'KKKKKB', 'KKKKKD', 'KKKKKH', 'KKKKNN', 'KKKKNA', 'KKKKNB', 'KKKKND', 'KKKKNH', 'KKKKAA', 'KKKKAB', 'KKKKAD', 'KKKKAH', 'KKKKBB', 'KKKKBD', 'KKKKBH', 'KKKKDD', 'KKKKDH', 'KKKKHH', 'KKKNNN', 'KKKNNA', 'KKKNNB', 'KKKNND', 'KKKNNH', 'KKKNAA', 'KKKNAB', 'KKKNAD', 'KKKNAH', 'KKKNBB', 'KKKNBD', 'KKKNBH', 'KKKNDD', 'KKKNDH', 'KKKNHH', 'KKKAAA', 'KKKAAB', 'KKKAAD', 'KKKAAH', 'KKKABB', 'KKKABD', 'KKKABH', 'KKKADD', 'KKKADH', 'KKKAHH', 'KKKBBB', 'KKKBBD', 'KKKBBH', 'KKKBDD', 'KKKBDH', 'KKKBHH', 'KKKDDD', 'KKKDDH', 'KKKDHH', 'KKKHHH', 'KKNNNN', 'KKNNNA', 'KKNNNB', 'KKNNND', 'KKNNNH', 'KKNNAA', 'KKNNAB', 'KKNNAD', 'KKNNAH', 'KKNNBB', 'KKNNBD', 'KKNNBH', 'KKNNDD', 'KKNNDH', 'KKNNHH', 'KKNAAA', 'KKNAAB', 'KKNAAD', 'KKNAAH', 'KKNABB', 'KKNABD', 'KKNABH', 'KKNADD', 'KKNADH', 'KKNAHH', 'KKNBBB', 'KKNBBD', 'KKNBBH', 'KKNBDD', 'KKNBDH', 'KKNBHH', 'KKNDDD', 'KKNDDH', 'KKNDHH', 'KKNHHH', 'KKAAAA', 'KKAAAB', 'KKAAAD', 'KKAAAH', 'KKAABB', 'KKAABD', 'KKAABH', 'KKAADD', 'KKAADH', 'KKAAHH', 'KKABBB', 'KKABBD', 'KKABBH', 'KKABDD', 'KKABDH', 'KKABHH', 'KKADDD', 'KKADDH', 'KKADHH', 'KKAHHH', 'KKBBBB', 'KKBBBD', 'KKBBBH', 'KKBBDD', 'KKBBDH', 'KKBBHH', 'KKBDDD', 'KKBDDH', 'KKBDHH', 'KKBHHH', 'KKDDDD', 'KKDDDH', 'KKDDHH', 'KKDHHH', 'KKHHHH', 'KNNNNN', 'KNNNNA', 'KNNNNB', 'KNNNND', 'KNNNNH', 'KNNNAA', 'KNNNAB', 'KNNNAD', 'KNNNAH', 'KNNNBB', 'KNNNBD', 'KNNNBH', 'KNNNDD', 'KNNNDH', 'KNNNHH', 'KNNAAA', 'KNNAAB', 'KNNAAD', 'KNNAAH', 'KNNABB', 'KNNABD', 'KNNABH', 'KNNADD', 'KNNADH', 'KNNAHH', 'KNNBBB', 'KNNBBD', 'KNNBBH', 'KNNBDD', 'KNNBDH', 'KNNBHH', 'KNNDDD', 'KNNDDH', 'KNNDHH', 'KNNHHH', 'KNAAAA', 'KNAAAB', 'KNAAAD', 'KNAAAH', 'KNAABB', 'KNAABD', 'KNAABH', 'KNAADD', 'KNAADH', 'KNAAHH', 'KNABBB', 'KNABBD', 'KNABBH', 'KNABDD', 'KNABDH', 'KNABHH', 'KNADDD', 'KNADDH', 'KNADHH', 'KNAHHH', 'KNBBBB', 'KNBBBD', 'KNBBBH', 'KNBBDD', 'KNBBDH', 'KNBBHH', 'KNBDDD', 'KNBDDH', 'KNBDHH', 'KNBHHH', 'KNDDDD', 'KNDDDH', 'KNDDHH', 'KNDHHH', 'KNHHHH', 'KAAAAA', 'KAAAAB', 'KAAAAD', 'KAAAAH', 'KAAABB', 'KAAABD', 'KAAABH', 'KAAADD', 'KAAADH', 'KAAAHH', 'KAABBB', 'KAABBD', 'KAABBH', 'KAABDD', 'KAABDH', 'KAABHH', 'KAADDD', 'KAADDH', 'KAADHH', 'KAAHHH', 'KABBBB', 'KABBBD', 'KABBBH', 'KABBDD', 'KABBDH', 'KABBHH', 'KABDDD', 'KABDDH', 'KABDHH', 'KABHHH', 'KADDDD', 'KADDDH', 'KADDHH', 'KADHHH', 'KAHHHH', 'KBBBBB', 'KBBBBD', 'KBBBBH', 'KBBBDD', 'KBBBDH', 'KBBBHH', 'KBBDDD', 'KBBDDH', 'KBBDHH', 'KBBHHH', 'KBDDDD', 'KBDDDH', 'KBDDHH', 'KBDHHH', 'KBHHHH', 'KDDDDD', 'KDDDDH', 'KDDDHH', 'KDDHHH', 'KDHHHH', 'KHHHHH', 'NNNNNN', 'NNNNNA', 'NNNNNB', 'NNNNND', 'NNNNNH', 'NNNNAA', 'NNNNAB', 'NNNNAD', 'NNNNAH', 'NNNNBB', 'NNNNBD', 'NNNNBH', 'NNNNDD', 'NNNNDH', 'NNNNHH', 'NNNAAA', 'NNNAAB', 'NNNAAD', 'NNNAAH', 'NNNABB', 'NNNABD', 'NNNABH', 'NNNADD', 'NNNADH', 'NNNAHH', 'NNNBBB', 'NNNBBD', 'NNNBBH', 'NNNBDD', 'NNNBDH', 'NNNBHH', 'NNNDDD', 'NNNDDH', 'NNNDHH', 'NNNHHH', 'NNAAAA', 'NNAAAB', 'NNAAAD', 'NNAAAH', 'NNAABB', 'NNAABD', 'NNAABH', 'NNAADD', 'NNAADH', 'NNAAHH', 'NNABBB', 'NNABBD', 'NNABBH', 'NNABDD', 'NNABDH', 'NNABHH', 'NNADDD', 'NNADDH', 'NNADHH', 'NNAHHH', 'NNBBBB', 'NNBBBD', 'NNBBBH', 'NNBBDD', 'NNBBDH', 'NNBBHH', 'NNBDDD', 'NNBDDH', 'NNBDHH', 'NNBHHH', 'NNDDDD', 'NNDDDH', 'NNDDHH', 'NNDHHH', 'NNHHHH', 'NAAAAA', 'NAAAAB', 'NAAAAD', 'NAAAAH', 'NAAABB', 'NAAABD', 'NAAABH', 'NAAADD', 'NAAADH', 'NAAAHH', 'NAABBB', 'NAABBD', 'NAABBH', 'NAABDD', 'NAABDH', 'NAABHH', 'NAADDD', 'NAADDH', 'NAADHH', 'NAAHHH', 'NABBBB', 'NABBBD', 'NABBBH', 'NABBDD', 'NABBDH', 'NABBHH', 'NABDDD', 'NABDDH', 'NABDHH', 'NABHHH', 'NADDDD', 'NADDDH', 'NADDHH', 'NADHHH', 'NAHHHH', 'NBBBBB', 'NBBBBD', 'NBBBBH', 'NBBBDD', 'NBBBDH', 'NBBBHH', 'NBBDDD', 'NBBDDH', 'NBBDHH', 'NBBHHH', 'NBDDDD', 'NBDDDH', 'NBDDHH', 'NBDHHH', 'NBHHHH', 'NDDDDD', 'NDDDDH', 'NDDDHH', 'NDDHHH', 'NDHHHH', 'NHHHHH', 'AAAAAA', 'AAAAAB', 'AAAAAD', 'AAAAAH', 'AAAABB', 'AAAABD', 'AAAABH', 'AAAADD', 'AAAADH', 'AAAAHH', 'AAABBB', 'AAABBD', 'AAABBH', 'AAABDD', 'AAABDH', 'AAABHH', 'AAADDD', 'AAADDH', 'AAADHH', 'AAAHHH', 'AABBBB', 'AABBBD', 'AABBBH', 'AABBDD', 'AABBDH', 'AABBHH', 'AABDDD', 'AABDDH', 'AABDHH', 'AABHHH', 'AADDDD', 'AADDDH', 'AADDHH', 'AADHHH', 'AAHHHH', 'ABBBBB', 'ABBBBD', 'ABBBBH', 'ABBBDD', 'ABBBDH', 'ABBBHH', 'ABBDDD', 'ABBDDH', 'ABBDHH', 'ABBHHH', 'ABDDDD', 'ABDDDH', 'ABDDHH', 'ABDHHH', 'ABHHHH', 'ADDDDD', 'ADDDDH', 'ADDDHH', 'ADDHHH', 'ADHHHH', 'AHHHHH', 'BBBBBB', 'BBBBBD', 'BBBBBH', 'BBBBDD', 'BBBBDH', 'BBBBHH', 'BBBDDD', 'BBBDDH', 'BBBDHH', 'BBBHHH', 'BBDDDD', 'BBDDDH', 'BBDDHH', 'BBDHHH', 'BBHHHH', 'BDDDDD', 'BDDDDH', 'BDDDHH', 'BDDHHH', 'BDHHHH', 'BHHHHH', 'DDDDDD', 'DDDDDH', 'DDDDHH', 'DDDHHH', 'DDHHHH', 'DHHHHH', 'HHHHHH']\n"
     ]
    }
   ],
   "source": [
    "import nltk\n",
    "test = ['K', 'N', 'A', 'B', 'D', 'H']\n",
    "from itertools import combinations_with_replacement\n",
    "for i in range(4, len(test)+1):\n",
    "    l = [''.join(x) for x in list(combinations_with_replacement(test, i))]\n",
    "    print(l)\n",
    "# english_vocab = nltk.corpus.words.words()\n",
    "# \"hello\" in english_vocab"
   ]
  },
  {
   "cell_type": "code",
   "execution_count": null,
   "id": "advisory-character",
   "metadata": {},
   "outputs": [],
   "source": []
  }
 ],
 "metadata": {
  "kernelspec": {
   "display_name": "Python 3",
   "language": "python",
   "name": "python3"
  },
  "language_info": {
   "codemirror_mode": {
    "name": "ipython",
    "version": 3
   },
   "file_extension": ".py",
   "mimetype": "text/x-python",
   "name": "python",
   "nbconvert_exporter": "python",
   "pygments_lexer": "ipython3",
   "version": "3.7.4"
  },
  "toc": {
   "base_numbering": 1,
   "nav_menu": {},
   "number_sections": false,
   "sideBar": true,
   "skip_h1_title": false,
   "title_cell": "Table of Contents",
   "title_sidebar": "Contents",
   "toc_cell": false,
   "toc_position": {},
   "toc_section_display": true,
   "toc_window_display": false
  },
  "varInspector": {
   "cols": {
    "lenName": 16,
    "lenType": 16,
    "lenVar": 40
   },
   "kernels_config": {
    "python": {
     "delete_cmd_postfix": "",
     "delete_cmd_prefix": "del ",
     "library": "var_list.py",
     "varRefreshCmd": "print(var_dic_list())"
    },
    "r": {
     "delete_cmd_postfix": ") ",
     "delete_cmd_prefix": "rm(",
     "library": "var_list.r",
     "varRefreshCmd": "cat(var_dic_list()) "
    }
   },
   "types_to_exclude": [
    "module",
    "function",
    "builtin_function_or_method",
    "instance",
    "_Feature"
   ],
   "window_display": false
  }
 },
 "nbformat": 4,
 "nbformat_minor": 5
}
