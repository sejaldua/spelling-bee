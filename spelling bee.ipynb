{
 "cells": [
  {
   "cell_type": "code",
   "execution_count": 2,
   "id": "electronic-feelings",
   "metadata": {
    "ExecuteTime": {
     "end_time": "2021-09-15T15:00:40.032283Z",
     "start_time": "2021-09-15T15:00:38.771654Z"
    }
   },
   "outputs": [
    {
     "name": "stdout",
     "output_type": "stream",
     "text": [
      "Spelling Bee September 15, 2021\n",
      "\n",
      "Edited by Sam Ezersky\n",
      "\n",
      "Beginner o\n",
      "\n",
      "Type or click You have found 0 words\n",
      "N\n",
      "\n",
      "L R\n",
      "\n",
      "O A\n",
      "D\n",
      "\n",
      "Delete O Enter\n",
      "\n",
      "Help\n",
      "\n",
      "Yesterday’s Answers\n",
      "\f",
      "\n"
     ]
    }
   ],
   "source": [
    "try:\n",
    "    from PIL import Image\n",
    "except ImportError:\n",
    "    import Image\n",
    "\n",
    "import pytesseract\n",
    "\n",
    "# img = Image.open('test.png')\n",
    "\n",
    "import cv2\n",
    "\n",
    "img_cv = cv2.imread(r'test6.png')\n",
    "\n",
    "# By default OpenCV stores images in BGR format and since pytesseract assumes RGB format,\n",
    "# we need to convert from BGR to RGB format/mode:\n",
    "img_rgb = cv2.cvtColor(img_cv, cv2.COLOR_BGR2RGB)\n",
    "string = pytesseract.image_to_string(img_rgb)\n",
    "print(string)"
   ]
  },
  {
   "cell_type": "code",
   "execution_count": null,
   "id": "latest-investing",
   "metadata": {
    "ExecuteTime": {
     "start_time": "2021-09-15T23:12:34.410Z"
    }
   },
   "outputs": [
    {
     "name": "stdout",
     "output_type": "stream",
     "text": [
      "NORI, NODI, NOIL, NOIR, NAIN, NAIL, NAIO, NAID, NIDI, LORI, LOIN, LOIR, LARI, LAIN, LAIR, LAID, LINN, LINO, LINA, LILL, LIRA, LION, LIAR, LIIN, ROIL, ROID, RANI, RAIN, RAIL, RAIA, RAID, RIND, RILL, RIAL, OLIO, OLID, OOID, ANIL, ALIN, ARNI, ARIL, ARIA, ARID, AION, DOLI, DALI, DARI, DAIN, DILL, DILO, DIRL, DIRD, DIOL, DIAN, DIAL, INRO, ILIA, IRON, IRID, IODO, IDOL, NORIA, NANDI, NADIR, NAIAD, NINON, NIDOR, NIDAL, LARIN, LARID, LAIRD, LINON, LINDO, LININ, LIANA, LIARD, RANID, RADIO, RADII, ONION, ANOLI, ANOIL, ANION, ALOIN, ALOID, ALANI, AROID, ARAIN, ARDRI, AALII, ADION, AINOI, AIRAN, DRAIN, DRAIL, DRINN, DRILL, DOLIA, DORIA, DOOLI, DOINA, DANLI, DANIO, DAIRA, DAIRI, DINAR, DILLI, DILDO, DIDNA, INDRI, INDAN, INION, INIAL, ILIAL, IRIAN, IODOL, IDOLA, NONAIR, NONAID, NONION, NANOID, NARIAL, NIDANA, LOANIN, LAROID, LARIID, RODDIN, RANDIR, RADIAN, RADIAL, RAIOID, ORDAIN, OORALI, OOIDAL, OARIAL, ANILLA, ANILAO, ANILID, ADONIN, DOLINA, DANAID, DIRNDL, DIALIN, DIIODO, INLAND, INLAID, INROLL, INROAD, INDOOR, IRIDAL, IRIDIN, IDALIA, NADIRAL, NAILROD, LANOLIN, LANIOID, LINOLIN, LINALOL, LINALOA, RONDINO, ORARION, ORARIAN, ORDINAL, ORDINAR, ORILLON, OIDIOID, ANOLIAN, ANDROID, ANDIRON, ANDIRIN, ANIDIAN, ALODIAN, ALODIAL, ARALIAD, ARIDIAN, AIONIAL, DIARIAN, DIARIAL, "
     ]
    }
   ],
   "source": [
    "from nltk.corpus import words\n",
    "import itertools\n",
    "test = ['N', 'L', 'R', 'O', 'A', 'D', 'I']\n",
    "english_words = []\n",
    "for i in range(4, len(test)+1):\n",
    "    for p in itertools.product(test, repeat=i):\n",
    "        if 'I' in p and ''.join(p).lower() in words.words():\n",
    "            print(''.join(p), end=', ')\n",
    "            english_words.append(''.join(p))\n",
    "print(english_words)"
   ]
  },
  {
   "cell_type": "code",
   "execution_count": null,
   "id": "stable-connecticut",
   "metadata": {},
   "outputs": [],
   "source": []
  }
 ],
 "metadata": {
  "kernelspec": {
   "display_name": "Python 3",
   "language": "python",
   "name": "python3"
  },
  "language_info": {
   "codemirror_mode": {
    "name": "ipython",
    "version": 3
   },
   "file_extension": ".py",
   "mimetype": "text/x-python",
   "name": "python",
   "nbconvert_exporter": "python",
   "pygments_lexer": "ipython3",
   "version": "3.7.4"
  },
  "toc": {
   "base_numbering": 1,
   "nav_menu": {},
   "number_sections": false,
   "sideBar": true,
   "skip_h1_title": false,
   "title_cell": "Table of Contents",
   "title_sidebar": "Contents",
   "toc_cell": false,
   "toc_position": {},
   "toc_section_display": true,
   "toc_window_display": false
  },
  "varInspector": {
   "cols": {
    "lenName": 16,
    "lenType": 16,
    "lenVar": 40
   },
   "kernels_config": {
    "python": {
     "delete_cmd_postfix": "",
     "delete_cmd_prefix": "del ",
     "library": "var_list.py",
     "varRefreshCmd": "print(var_dic_list())"
    },
    "r": {
     "delete_cmd_postfix": ") ",
     "delete_cmd_prefix": "rm(",
     "library": "var_list.r",
     "varRefreshCmd": "cat(var_dic_list()) "
    }
   },
   "types_to_exclude": [
    "module",
    "function",
    "builtin_function_or_method",
    "instance",
    "_Feature"
   ],
   "window_display": false
  }
 },
 "nbformat": 4,
 "nbformat_minor": 5
}
